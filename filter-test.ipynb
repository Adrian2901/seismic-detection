{
 "cells": [
  {
   "cell_type": "code",
   "execution_count": 1,
   "metadata": {},
   "outputs": [],
   "source": [
    "import numpy as np\n",
    "import pandas as pd\n",
    "from obspy import read\n",
    "from datetime import datetime, timedelta\n",
    "import matplotlib.pyplot as plt\n",
    "import os\n",
    "from obspy.signal.invsim import cosine_taper\n",
    "from obspy.signal.filter import highpass\n",
    "from obspy.signal.trigger import classic_sta_lta, plot_trigger, trigger_onset\n",
    "from filter import filter"
   ]
  },
  {
   "cell_type": "code",
   "execution_count": 2,
   "metadata": {},
   "outputs": [],
   "source": [
    "data_directory = './space_apps_2024_seismic_detection/data/lunar/training/data/S12_GradeA/'\n",
    "\n",
    "cat_directory = './space_apps_2024_seismic_detection/data/lunar/training/catalogs/'\n",
    "cat_file = cat_directory + 'apollo12_catalog_GradeA_final.csv'\n",
    "cat = pd.read_csv(cat_file)"
   ]
  },
  {
   "cell_type": "code",
   "execution_count": 3,
   "metadata": {},
   "outputs": [],
   "source": [
    "# Funny"
   ]
  },
  {
   "cell_type": "code",
   "execution_count": 4,
   "metadata": {},
   "outputs": [],
   "source": [
    "# How long should the short-term and long-term window be, in seconds?\n",
    "sta_len = 5000\n",
    "lta_len = 40000\n",
    "\n",
    "# Play around with the on and off triggers, based on values in the characteristic function\n",
    "thr_on = 2.3\n",
    "thr_off = 1.5"
   ]
  },
  {
   "cell_type": "code",
   "execution_count": null,
   "metadata": {},
   "outputs": [],
   "source": [
    "#iterate through files in directory\n",
    "for row in cat.iterrows():\n",
    "    filename = row[1]['filename']\n",
    "    arrival_time = datetime.strptime(row[1]['time_abs(%Y-%m-%dT%H:%M:%S.%f)'],'%Y-%m-%dT%H:%M:%S.%f')\n",
    "    mseed_file = f'{data_directory}{filename}.mseed'\n",
    "    st = read(mseed_file)\n",
    "\n",
    "    # This is how you get the data and the time, which is in seconds\n",
    "    tr = st.traces[0].copy()\n",
    "    tr_times = tr.times()\n",
    "    tr_data = filter(st)\n",
    "\n",
    "    # Start time of trace (another way to get the relative arrival time using datetime)\n",
    "    starttime = tr.stats.starttime.datetime\n",
    "    arrival = (arrival_time - starttime).total_seconds()\n",
    "    arrival\n",
    "\n",
    "    # Initialize figure\n",
    "    fig,ax = plt.subplots(1,1,figsize=(10,3))\n",
    "\n",
    "    # Plot trace\n",
    "    ax.plot(tr_times,tr_data)\n",
    "\n",
    "    # Mark detection\n",
    "    ax.axvline(x = arrival, color='red',label='Rel. Arrival')\n",
    "    ax.legend(loc='upper left')\n",
    "\n",
    "    # Make the plot pretty\n",
    "    ax.set_xlim([min(tr_times),max(tr_times)])\n",
    "    ax.set_ylabel('Velocity (m/s)')\n",
    "    ax.set_xlabel('Time (s)')\n",
    "    ax.set_title(f'{filename}', fontweight='bold')\n",
    "    plt.show()"
   ]
  }
 ],
 "metadata": {
  "kernelspec": {
   "display_name": "Python 3",
   "language": "python",
   "name": "python3"
  },
  "language_info": {
   "codemirror_mode": {
    "name": "ipython",
    "version": 3
   },
   "file_extension": ".py",
   "mimetype": "text/x-python",
   "name": "python",
   "nbconvert_exporter": "python",
   "pygments_lexer": "ipython3",
   "version": "3.10.11"
  }
 },
 "nbformat": 4,
 "nbformat_minor": 2
}
