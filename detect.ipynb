{
 "cells": [
  {
   "cell_type": "markdown",
   "metadata": {},
   "source": [
    "# Seismic Detection"
   ]
  },
  {
   "cell_type": "markdown",
   "metadata": {},
   "source": [
    "## Part 1: Import dependencies"
   ]
  },
  {
   "cell_type": "code",
   "execution_count": 31,
   "metadata": {},
   "outputs": [],
   "source": [
    "import numpy as np\n",
    "import pandas as pd\n",
    "from obspy import read\n",
    "from datetime import datetime, timedelta\n",
    "import matplotlib.pyplot as plt\n",
    "import os\n",
    "from filter import filter"
   ]
  },
  {
   "cell_type": "markdown",
   "metadata": {},
   "source": [
    "## Part 2: Select the dataset\n",
    "\n",
    "If you want to use the directories listed below, make sure you unzip the [Space Apps 2024 Seismic Detection Data Packet](https://wufs.wustl.edu/SpaceApps/data/space_apps_2024_seismic_detection.zip) in the root folder of the project."
   ]
  },
  {
   "cell_type": "code",
   "execution_count": 32,
   "metadata": {},
   "outputs": [],
   "source": [
    "# Available directories\n",
    "lunar_S12B = './space_apps_2024_seismic_detection/data/lunar/test/data/S12_GradeB/'\n",
    "lunar_S15A = './space_apps_2024_seismic_detection/data/lunar/test/data/S15_GradeA/'\n",
    "lunar_S15B = './space_apps_2024_seismic_detection/data/lunar/test/data/S15_GradeB/'\n",
    "lunar_S16A = './space_apps_2024_seismic_detection/data/lunar/test/data/S16_GradeA/'\n",
    "lunar_S16B = './space_apps_2024_seismic_detection/data/lunar/test/data/S16_GradeB/'\n",
    "mars = './space_apps_2024_seismic_detection/data/mars/test/data/'\n",
    "\n",
    "# Select data directory or specify path to a different one\n",
    "data_directory = mars\n",
    "\n",
    "# List to store detected seismic events\n",
    "export = []\n"
   ]
  },
  {
   "cell_type": "markdown",
   "metadata": {},
   "source": [
    "## Part 3: Detect and plot seismic events"
   ]
  },
  {
   "cell_type": "code",
   "execution_count": null,
   "metadata": {},
   "outputs": [],
   "source": [
    "# Iterate though files in directory\n",
    "for filename in os.listdir(data_directory):\n",
    "    # Look thorugh mSEED files\n",
    "    if filename.endswith(\".mseed\"):\n",
    "        mseed_file = f'{data_directory}{filename}'\n",
    "        st = read(mseed_file)\n",
    "\n",
    "        # Process the trace\n",
    "        tr = st.traces[0].copy()\n",
    "        tr_times = tr.times()\n",
    "        tr_data = filter(st)\n",
    "\n",
    "        first_nonzero_index = np.nonzero(tr_data)[0][0]\n",
    "\n",
    "        # Start time of trace\n",
    "        starttime = tr.stats.starttime.datetime\n",
    "\n",
    "        # Initialize figure\n",
    "        fig,ax = plt.subplots(1,1,figsize=(10,3))\n",
    "\n",
    "        # Plot trace\n",
    "        ax.plot(tr_times,tr_data)\n",
    "\n",
    "        predicted_time = tr_times[first_nonzero_index]\n",
    "\n",
    "        # Mark detection\n",
    "        ax.axvline(x = predicted_time, color='green',label='Detect. Arrival')\n",
    "        ax.legend(loc='upper left')\n",
    "\n",
    "        # Add data to the export list\n",
    "        export_row = {'filename': filename, 'time_abs(%Y-%m-%dT%H:%M:%S.%f)': starttime + timedelta(seconds = predicted_time), 'time_rel(sec)': tr_times[first_nonzero_index]}\n",
    "        export.append(export_row)\n",
    "\n",
    "        # Make the plot pretty\n",
    "        ax.set_xlim([min(tr_times),max(tr_times)])\n",
    "        ax.set_ylabel('Velocity (m/s)')\n",
    "        ax.set_xlabel('Time (s)')\n",
    "        ax.set_title(f'{filename}', fontweight='bold')\n",
    "        plt.show()"
   ]
  },
  {
   "cell_type": "markdown",
   "metadata": {},
   "source": [
    "## Part 4: Export detected seismic events"
   ]
  },
  {
   "cell_type": "code",
   "execution_count": 34,
   "metadata": {},
   "outputs": [],
   "source": [
    "export_df = pd.DataFrame(export)\n",
    "export_df.to_csv('output.csv', index=False)"
   ]
  }
 ],
 "metadata": {
  "kernelspec": {
   "display_name": "Python 3",
   "language": "python",
   "name": "python3"
  },
  "language_info": {
   "codemirror_mode": {
    "name": "ipython",
    "version": 3
   },
   "file_extension": ".py",
   "mimetype": "text/x-python",
   "name": "python",
   "nbconvert_exporter": "python",
   "pygments_lexer": "ipython3",
   "version": "3.10.11"
  }
 },
 "nbformat": 4,
 "nbformat_minor": 2
}
