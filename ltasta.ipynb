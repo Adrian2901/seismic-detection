{
 "cells": [
  {
   "cell_type": "code",
   "execution_count": 6,
   "metadata": {},
   "outputs": [],
   "source": [
    "import numpy as np\n",
    "import pandas as pd\n",
    "from obspy import read\n",
    "from datetime import datetime, timedelta\n",
    "import matplotlib.pyplot as plt\n",
    "import os\n",
    "from obspy.signal.invsim import cosine_taper\n",
    "from obspy.signal.filter import highpass\n",
    "from obspy.signal.trigger import classic_sta_lta, plot_trigger, trigger_onset"
   ]
  },
  {
   "cell_type": "code",
   "execution_count": 7,
   "metadata": {},
   "outputs": [],
   "source": [
    "data_directory = './space_apps_2024_seismic_detection/data/lunar/training/data/S12_GradeA/'\n",
    "\n",
    "cat_directory = './space_apps_2024_seismic_detection/data/lunar/training/catalogs/'\n",
    "cat_file = cat_directory + 'apollo12_catalog_GradeA_final.csv'\n",
    "cat = pd.read_csv(cat_file)"
   ]
  },
  {
   "cell_type": "code",
   "execution_count": null,
   "metadata": {},
   "outputs": [],
   "source": []
  },
  {
   "cell_type": "code",
   "execution_count": 8,
   "metadata": {},
   "outputs": [],
   "source": [
    "# How long should the short-term and long-term window be, in seconds?\n",
    "sta_len = 1000\n",
    "lta_len = 10000\n",
    "\n",
    "# Play around with the on and off triggers, based on values in the characteristic function\n",
    "thr_on = 4\n",
    "thr_off = 1.5"
   ]
  },
  {
   "cell_type": "code",
   "execution_count": null,
   "metadata": {},
   "outputs": [],
   "source": [
    "#iterate through files in directory\n",
    "for row in cat.iterrows():\n",
    "    filename = row[1]['filename']\n",
    "    arrival_time = datetime.strptime(row[1]['time_abs(%Y-%m-%dT%H:%M:%S.%f)'],'%Y-%m-%dT%H:%M:%S.%f')\n",
    "    mseed_file = f'{data_directory}{filename}.mseed'\n",
    "    st = read(mseed_file)\n",
    "\n",
    "    tr = st.traces[0].copy()\n",
    "    tr_times = tr.times()\n",
    "    tr_data = tr.data\n",
    "    \n",
    "    # Initialize figure\n",
    "    fig,ax = plt.subplots(1,1,figsize=(10,3))\n",
    "    # Make the plot pretty\n",
    "    ax.set_ylabel('Velocity (m/s)')\n",
    "    ax.set_xlabel('Time (s)')\n",
    "    ax.set_xlim([min(tr_times),max(tr_times)])\n",
    "    ax.set_title(f'{filename}')\n",
    "    ax.plot(tr_times,tr_data)\n",
    "\n",
    "    df = tr.stats.sampling_rate\n",
    "\n",
    "    cft = classic_sta_lta(tr_data, int(sta_len * df), int(lta_len * df))\n",
    "\n",
    "    on_off = np.array(trigger_onset(cft, thr_on, thr_off))\n",
    "\n",
    "    for i in np.arange(0,len(on_off)):\n",
    "        triggers = on_off[i]\n",
    "        ax.axvline(x = tr_times[triggers[0]], color='red', label='Trig. On')\n",
    "        ax.axvline(x = tr_times[triggers[1]], color='purple', label='Trig. Off')\n",
    "\n",
    "\n",
    "    plt.show()"
   ]
  }
 ],
 "metadata": {
  "kernelspec": {
   "display_name": "Python 3",
   "language": "python",
   "name": "python3"
  },
  "language_info": {
   "codemirror_mode": {
    "name": "ipython",
    "version": 3
   },
   "file_extension": ".py",
   "mimetype": "text/x-python",
   "name": "python",
   "nbconvert_exporter": "python",
   "pygments_lexer": "ipython3",
   "version": "3.10.11"
  }
 },
 "nbformat": 4,
 "nbformat_minor": 2
}
